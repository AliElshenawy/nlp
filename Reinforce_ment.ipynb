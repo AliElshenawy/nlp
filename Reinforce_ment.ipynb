{
  "nbformat": 4,
  "nbformat_minor": 0,
  "metadata": {
    "colab": {
      "name": "Reinforce_ment.ipynb",
      "provenance": [],
      "collapsed_sections": [
        "W7s2_07B81TY",
        "dG1e9CIM8w48",
        "OrrbyaaD9I13",
        "pcT2rm7W9QSO",
        "NqAWuV559hnD",
        "1V_BaogDCdJY"
      ]
    },
    "kernelspec": {
      "name": "python3",
      "display_name": "Python 3"
    },
    "language_info": {
      "name": "python"
    }
  },
  "cells": [
    {
      "cell_type": "markdown",
      "source": [
        "#first_problem"
      ],
      "metadata": {
        "id": "y7CGv2_6826c"
      }
    },
    {
      "cell_type": "code",
      "execution_count": 59,
      "metadata": {
        "colab": {
          "base_uri": "https://localhost:8080/"
        },
        "id": "sdiX0DI7zFa-",
        "outputId": "30c555df-3ef1-4a0a-efd1-a4f0c7ced56e"
      },
      "outputs": [
        {
          "output_type": "stream",
          "name": "stdout",
          "text": [
            "Looking in indexes: https://pypi.org/simple, https://us-python.pkg.dev/colab-wheels/public/simple/\n",
            "Requirement already satisfied: cmake in /usr/local/lib/python3.7/dist-packages (3.22.4)\n",
            "Requirement already satisfied: gym[atari] in /usr/local/lib/python3.7/dist-packages (0.17.3)\n",
            "Requirement already satisfied: scipy in /usr/local/lib/python3.7/dist-packages (1.4.1)\n",
            "Requirement already satisfied: numpy>=1.13.3 in /usr/local/lib/python3.7/dist-packages (from scipy) (1.21.6)\n",
            "Requirement already satisfied: cloudpickle<1.7.0,>=1.2.0 in /usr/local/lib/python3.7/dist-packages (from gym[atari]) (1.3.0)\n",
            "Requirement already satisfied: pyglet<=1.5.0,>=1.4.0 in /usr/local/lib/python3.7/dist-packages (from gym[atari]) (1.5.0)\n",
            "Requirement already satisfied: opencv-python in /usr/local/lib/python3.7/dist-packages (from gym[atari]) (4.1.2.30)\n",
            "Requirement already satisfied: atari-py~=0.2.0 in /usr/local/lib/python3.7/dist-packages (from gym[atari]) (0.2.9)\n",
            "Requirement already satisfied: Pillow in /usr/local/lib/python3.7/dist-packages (from gym[atari]) (7.1.2)\n",
            "Requirement already satisfied: six in /usr/local/lib/python3.7/dist-packages (from atari-py~=0.2.0->gym[atari]) (1.15.0)\n",
            "Requirement already satisfied: future in /usr/local/lib/python3.7/dist-packages (from pyglet<=1.5.0,>=1.4.0->gym[atari]) (0.16.0)\n"
          ]
        }
      ],
      "source": [
        "!pip install cmake 'gym[atari]' scipy\n",
        "import gym\n",
        "import random\n",
        "from IPython.display import clear_output\n",
        "import numpy as np"
      ]
    },
    {
      "cell_type": "markdown",
      "source": [
        "#training"
      ],
      "metadata": {
        "id": "W7s2_07B81TY"
      }
    },
    {
      "cell_type": "code",
      "source": [
        "def Apply_RL(environment,alpha,gamma,epsilon):\n",
        "  env = gym.make(environment).env\n",
        "\n",
        "  %%time\n",
        "  \"\"\"Training the agent\"\"\"\n",
        "\n",
        "  # Initialize the q table\n",
        "  q_table = np.zeros([env.observation_space.n, env.action_space.n])\n",
        "\n",
        "  # For plotting metrics\n",
        "  all_epochs = []\n",
        "  all_penalties = []\n",
        "\n",
        "  for i in range(1, 100001):\n",
        "      state = env.reset()\n",
        "\n",
        "      epochs, penalties, reward, = 0,0,0\n",
        "      done = False\n",
        "      \n",
        "      while not done:\n",
        "          if random.uniform(0, 1) < epsilon:\n",
        "              action = env.action_space.sample() # Explore action space\n",
        "          else:\n",
        "              action = np.argmax(q_table[state]) # Exploit learned values\n",
        "\n",
        "          next_state, reward, done, info = env.step(action) \n",
        "          \n",
        "          old_value = q_table[state, action]\n",
        "          next_max = np.max(q_table[next_state])\n",
        "      \n",
        "          new_value = (1 - alpha) * old_value + alpha * (reward + gamma * next_max)\n",
        "          q_table[state, action] = new_value\n",
        "\n",
        "          if reward == -10:\n",
        "              penalties += 1\n",
        "\n",
        "          state = next_state\n",
        "          epochs += 1\n",
        "          \n",
        "      if i % 100 == 0:\n",
        "          clear_output(wait=True)\n",
        "          print(f\"Episode: {i}\")\n",
        "\n",
        "  print(\"Training finished.\\n\")\n",
        "  return env , q_table"
      ],
      "metadata": {
        "id": "AsWRnt9R8odd"
      },
      "execution_count": 60,
      "outputs": []
    },
    {
      "cell_type": "markdown",
      "source": [
        "#call function"
      ],
      "metadata": {
        "id": "dG1e9CIM8w48"
      }
    },
    {
      "cell_type": "code",
      "source": [
        "env,q_table=Apply_RL(\"Taxi-v3\",.1,.6,.1)"
      ],
      "metadata": {
        "colab": {
          "base_uri": "https://localhost:8080/"
        },
        "id": "FY7EsHz78zKb",
        "outputId": "12fab514-26cb-4271-ed03-4f5dc88e2ce4"
      },
      "execution_count": 61,
      "outputs": [
        {
          "output_type": "stream",
          "name": "stdout",
          "text": [
            "Episode: 100000\n",
            "Training finished.\n",
            "\n"
          ]
        }
      ]
    },
    {
      "cell_type": "markdown",
      "source": [
        "#evaluation"
      ],
      "metadata": {
        "id": "OrrbyaaD9I13"
      }
    },
    {
      "cell_type": "code",
      "source": [
        "\"\"\"Evaluate agent's performance after Q-learning\"\"\"\n",
        "def eval_function(env,episodes,q_table):\n",
        "\n",
        "  total_epochs, total_penalties = 0, 0\n",
        "  # episodes = 1000\n",
        "\n",
        "  for _ in range(episodes):\n",
        "      state = env.reset()\n",
        "      epochs, penalties, reward = 0, 0, 0\n",
        "      \n",
        "      done = False\n",
        "      \n",
        "      while not done:\n",
        "          action = np.argmax(q_table[state])\n",
        "          state, reward, done, info = env.step(action)\n",
        "\n",
        "          if reward == -10:\n",
        "              penalties += 1\n",
        "\n",
        "          epochs += 1\n",
        "\n",
        "      total_penalties += penalties\n",
        "      total_epochs += epochs\n",
        "\n",
        "  print(f\"Results after {episodes} episodes:\")\n",
        "  print(f\"Average timesteps per episode: {total_epochs / episodes}\")\n",
        "  print(f\"Average penalties per episode: {total_penalties / episodes}\")\n"
      ],
      "metadata": {
        "id": "MuKZNqzk9KPH"
      },
      "execution_count": 62,
      "outputs": []
    },
    {
      "cell_type": "markdown",
      "source": [
        "#call function"
      ],
      "metadata": {
        "id": "pcT2rm7W9QSO"
      }
    },
    {
      "cell_type": "code",
      "source": [
        "eval_function(env,1000,q_table)"
      ],
      "metadata": {
        "colab": {
          "base_uri": "https://localhost:8080/"
        },
        "id": "pnPqRa-E9SUD",
        "outputId": "123248f6-b3f6-4649-fcbc-a95bcbc21145"
      },
      "execution_count": 63,
      "outputs": [
        {
          "output_type": "stream",
          "name": "stdout",
          "text": [
            "Results after 1000 episodes:\n",
            "Average timesteps per episode: 13.255\n",
            "Average penalties per episode: 0.0\n"
          ]
        }
      ]
    },
    {
      "cell_type": "markdown",
      "source": [
        "#second_problem"
      ],
      "metadata": {
        "id": "NqAWuV559hnD"
      }
    },
    {
      "cell_type": "code",
      "source": [
        "def q_learning_tunning(env,hyper_param, episodes = 100001, decay = 5):\n",
        "  %%time\n",
        "  import random\n",
        "  from IPython.display import clear_output\n",
        "  import numpy as np\n",
        "\n",
        "  # Initialize the q table\n",
        "  q_table = np.zeros([env.observation_space.n, env.action_space.n])\n",
        "\n",
        "  # For plotting metrics\n",
        "  all_epochs = []\n",
        "  all_penalties = []\n",
        "\n",
        "  for i in range(1, episodes):\n",
        "      state = env.reset()\n",
        "\n",
        "      epochs, penalties, reward, = 0, 0, 0\n",
        "      done = False\n",
        "      \n",
        "      while not done:\n",
        "          if random.uniform(0, 1) < hyper_param[2]:\n",
        "              action = env.action_space.sample() # Explore action space\n",
        "          else:\n",
        "              action = np.argmax(q_table[state]) # Exploit learned values\n",
        "\n",
        "          next_state, reward, done, info = env.step(action) \n",
        "          \n",
        "          old_value = q_table[state, action]\n",
        "          next_max = np.max(q_table[next_state])\n",
        "      \n",
        "          new_value = (1 - hyper_param[0]) * old_value + hyper_param[0] * (reward + hyper_param[1] * next_max)\n",
        "          q_table[state, action] = new_value\n",
        "\n",
        "          if reward == -10:\n",
        "              penalties += 1\n",
        "\n",
        "          state = next_state\n",
        "          epochs += 1\n",
        "      \n",
        "      # tune hyperparameters using delay\n",
        "      if  i % int(episodes / decay) == 0:\n",
        "        #hyper_param[0] = hyper_param[0] * .9\n",
        "        hyper_param[0] = max(hyper_param[0] - .1, .1)\n",
        "        #hyper_param[1] =hyper_param[0] * .9\n",
        "        hyper_param[1]= min(hyper_param[1] + .1, .6)\n",
        "        #hyper_param[2] = hyper_param[0] * .9\n",
        "        hyper_param[2]=max(hyper_param[2] + .001, .1)\n",
        "      \n",
        "      if i % 100 == 0:\n",
        "          clear_output(wait=True)\n",
        "          print(f\"Episode: {i}\")\n",
        "  print(\"Training finished.\\n\")\n",
        "  return q_table"
      ],
      "metadata": {
        "id": "oi_R2Czg9kG6"
      },
      "execution_count": 64,
      "outputs": []
    },
    {
      "cell_type": "code",
      "source": [
        "q_table = q_learning_tunning(env,[.6,.2,.05], decay = 10)"
      ],
      "metadata": {
        "colab": {
          "base_uri": "https://localhost:8080/"
        },
        "id": "AEZmgr2vCmto",
        "outputId": "45ec7a2e-c1bd-46b7-8529-3f4bcd93997f"
      },
      "execution_count": 65,
      "outputs": [
        {
          "output_type": "stream",
          "name": "stdout",
          "text": [
            "Episode: 100000\n",
            "Training finished.\n",
            "\n"
          ]
        }
      ]
    },
    {
      "cell_type": "markdown",
      "source": [
        "#evaluate"
      ],
      "metadata": {
        "id": "1V_BaogDCdJY"
      }
    },
    {
      "cell_type": "code",
      "source": [
        "def q_learning_evaluate(env, q_table, episodes = 1000):\n",
        "  import numpy as np\n",
        "\n",
        "  epochs, penalties, reward = 0, 0, 0\n",
        "  for _ in range(episodes):\n",
        "      state = env.reset()\n",
        "      done = False\n",
        "      while not done:\n",
        "          action = np.argmax(q_table[state])\n",
        "          state, reward, done, info = env.step(action)\n",
        "          if reward == -10:\n",
        "              penalties += 1\n",
        "          epochs += 1\n",
        "  print(f\"Evaluation after {episodes} episodes:\\n\")\n",
        "  print(f\"   Average timesteps per episode: {epochs / episodes}\")\n",
        "  print(f\"   Average penalties per episode: {penalties / episodes}\")"
      ],
      "metadata": {
        "id": "XAjrg8VyCekz"
      },
      "execution_count": 66,
      "outputs": []
    },
    {
      "cell_type": "code",
      "source": [
        "q_learning_evaluate(env, q_table)"
      ],
      "metadata": {
        "colab": {
          "base_uri": "https://localhost:8080/"
        },
        "id": "ACsdyJTiKEOk",
        "outputId": "5ab0ee8e-f31c-45b2-d402-eb40f51ac049"
      },
      "execution_count": 67,
      "outputs": [
        {
          "output_type": "stream",
          "name": "stdout",
          "text": [
            "Evaluation after 1000 episodes:\n",
            "\n",
            "   Average timesteps per episode: 13.12\n",
            "   Average penalties per episode: 0.0\n"
          ]
        }
      ]
    },
    {
      "cell_type": "markdown",
      "source": [
        "#third_problem"
      ],
      "metadata": {
        "id": "rbOEUeLEJ7SU"
      }
    },
    {
      "cell_type": "markdown",
      "source": [
        "#training"
      ],
      "metadata": {
        "id": "SzMMhK0aLKJD"
      }
    },
    {
      "cell_type": "code",
      "source": [
        "#from itertools to generate lists\n",
        "import itertools\n",
        "alpha=[.5,.7,.9]\n",
        "gamam=[.5,.7,.9]\n",
        "elipson=[.5,.7,.9]\n",
        "lists=[alpha,gamam,elipson]\n",
        "print (\"The final  lists are : \" + str(lists))\n",
        "res = list(itertools.product(*lists)) \n",
        "# printing result\n",
        "print (\"All possible iters are : \" +  str(res))\n",
        "#res[21]"
      ],
      "metadata": {
        "colab": {
          "base_uri": "https://localhost:8080/"
        },
        "id": "NSYccX48ONXP",
        "outputId": "5bf0ab36-c88c-4650-f91f-6c73278f6a91"
      },
      "execution_count": 68,
      "outputs": [
        {
          "output_type": "stream",
          "name": "stdout",
          "text": [
            "The final  lists are : [[0.5, 0.7, 0.9], [0.5, 0.7, 0.9], [0.5, 0.7, 0.9]]\n",
            "All possible iters are : [(0.5, 0.5, 0.5), (0.5, 0.5, 0.7), (0.5, 0.5, 0.9), (0.5, 0.7, 0.5), (0.5, 0.7, 0.7), (0.5, 0.7, 0.9), (0.5, 0.9, 0.5), (0.5, 0.9, 0.7), (0.5, 0.9, 0.9), (0.7, 0.5, 0.5), (0.7, 0.5, 0.7), (0.7, 0.5, 0.9), (0.7, 0.7, 0.5), (0.7, 0.7, 0.7), (0.7, 0.7, 0.9), (0.7, 0.9, 0.5), (0.7, 0.9, 0.7), (0.7, 0.9, 0.9), (0.9, 0.5, 0.5), (0.9, 0.5, 0.7), (0.9, 0.5, 0.9), (0.9, 0.7, 0.5), (0.9, 0.7, 0.7), (0.9, 0.7, 0.9), (0.9, 0.9, 0.5), (0.9, 0.9, 0.7), (0.9, 0.9, 0.9)]\n"
          ]
        }
      ]
    },
    {
      "cell_type": "code",
      "source": [
        "def q_learning_grid(env,parameter):\n",
        "  %%time\n",
        "  import random\n",
        "  from IPython.display import clear_output\n",
        "  import numpy as np\n",
        "  env = gym.make(\"Taxi-v3\").env\n",
        "  # Initialize the q table\n",
        "  global q_table\n",
        "  q_table = np.zeros([env.observation_space.n, env.action_space.n])\n",
        "  episodes=[]\n",
        " \n",
        "  all_epochs = []\n",
        "  all_penalties = []\n",
        "  all_q_tables = []\n",
        "  for j in parameter: \n",
        "    alpha=j[0]\n",
        "    gamma=j[1]\n",
        "    epilson=j[2]\n",
        "    for i in range(1, 100001):\n",
        "      state = env.reset()\n",
        "\n",
        "      epochs, penalties, reward, = 0, 0, 0\n",
        "      done = False\n",
        "      \n",
        "      while not done:\n",
        "          if random.uniform(0, 1) < epilson:\n",
        "              action = env.action_space.sample() # Explore action space\n",
        "          else:\n",
        "              action =np.argmax(q_table[state]) # Exploit learned values\n",
        "\n",
        "          next_state, reward, done, info = env.step(action) \n",
        "          old_value = q_table[state, action]\n",
        "          next_max = np.max(q_table[next_state])\n",
        "          \n",
        "          \n",
        "          new_value = (1 - alpha) * old_value + alpha * (reward + gamma * next_max)\n",
        "          q_table[state, action] = new_value\n",
        "\n",
        "          if reward == -10:\n",
        "              penalties += 1\n",
        "\n",
        "          state = next_state\n",
        "          epochs += 1\n",
        "      if i % 10000 == 0:\n",
        "          clear_output(wait=True)\n",
        "          alpha -=.005\n",
        "          gamma -=.005\n",
        "          epilson -=.005\n",
        "    all_q_tables.append(q_table)\n",
        "  return all_q_tables"
      ],
      "metadata": {
        "id": "HA2uR2eRJ_HW"
      },
      "execution_count": 69,
      "outputs": []
    },
    {
      "cell_type": "code",
      "source": [
        "all_q_tables=q_learning_grid(env,list(res))"
      ],
      "metadata": {
        "colab": {
          "base_uri": "https://localhost:8080/"
        },
        "id": "Yc4gtZIgPcmU",
        "outputId": "af0f8661-b3f9-46d0-9763-0e025459bba6"
      },
      "execution_count": null,
      "outputs": [
        {
          "output_type": "stream",
          "name": "stdout",
          "text": [
            "CPU times: user 3 µs, sys: 0 ns, total: 3 µs\n",
            "Wall time: 7.63 µs\n"
          ]
        }
      ]
    },
    {
      "cell_type": "code",
      "source": [
        "print(len(all_q_tables))"
      ],
      "metadata": {
        "id": "TdcjSUIMYTLJ"
      },
      "execution_count": null,
      "outputs": []
    },
    {
      "cell_type": "markdown",
      "source": [
        "#evaluation"
      ],
      "metadata": {
        "id": "Fvg_UNTyLM4s"
      }
    },
    {
      "cell_type": "code",
      "source": [
        "\"\"\"Evaluate agent's performance after Q-learning\"\"\"\n",
        "def Evalutation_grid (q_tables):\n",
        "  total_epochs, total_penalties = 0, 0\n",
        "  episodes = 1000\n",
        "  for q_table in q_tables:\n",
        "    for _ in range(episodes):\n",
        "        state = env.reset()\n",
        "        epochs, penalties, reward = 0, 0, 0\n",
        "        \n",
        "        done = False\n",
        "        \n",
        "        while not done:\n",
        "            action = np.argmax(q_table[state])\n",
        "            state, reward, done, info = env.step(action)\n",
        "\n",
        "            if reward == -10:\n",
        "                penalties += 1\n",
        "\n",
        "            epochs += 1\n",
        "\n",
        "            total_penalties += penalties\n",
        "            total_epochs += epochs\n",
        "\n",
        "    print(f\"Results after {episodes} episodes:\")\n",
        "    print(f\"Average timesteps per episode: {total_epochs / episodes}\")\n",
        "    print(f\"Average penalties per episode: {total_penalties / episodes}\")"
      ],
      "metadata": {
        "id": "z4-YM-xtCp8g"
      },
      "execution_count": null,
      "outputs": []
    },
    {
      "cell_type": "code",
      "source": [
        "Evalutation_grid(all_q_tables)"
      ],
      "metadata": {
        "id": "wrVoPoilLTla"
      },
      "execution_count": null,
      "outputs": []
    }
  ]
}